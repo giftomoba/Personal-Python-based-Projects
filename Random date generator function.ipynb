{
 "cells": [
  {
   "cell_type": "code",
   "execution_count": 26,
   "id": "ffe75f6a",
   "metadata": {},
   "outputs": [],
   "source": [
    "def random_date_generator():\n",
    "    import random\n",
    "    try:\n",
    "        y1 = int(input(\"Specify first year (1800 to 2050): \"))\n",
    "        if y1 in range(1800,2051):\n",
    "            y2 = int(input(\"Specify second year (1800 to 2050): \"))\n",
    "            if y2>y1:\n",
    "                if y2 in range(1800,2051):\n",
    "                    yy = random.randint(y1,y2)\n",
    "                    mm = random.randint(1,12)\n",
    "                    if mm in [1,3,5,7,8,10,12]:\n",
    "                        dd = random.randint(1,31)\n",
    "                    elif mm == 2 and yy%4 == 0:\n",
    "                        dd = random.randint(1,29)\n",
    "                    elif mm == 2 and yy%4 != 0:\n",
    "                        dd = random.randint(1,28)\n",
    "                    else:\n",
    "                        dd = random.randint(1,30)\n",
    "                    date = '/'.join([str(dd), str(mm), str(yy)])\n",
    "                else:\n",
    "                    date = f\"Date Input Error: {y2} is not in range (1800 to 2050). Please enter required numbers.\"\n",
    "            else:\n",
    "                date = f'Error: first input must be less than second input. Check your year entries.'\n",
    "        else:\n",
    "            date = f\"Date Input Error: {y1} is not in range (1800 to 2050). Please enter required numbers.\"\n",
    "    except Exception as error:\n",
    "        #print('That\\'s not a number!')\n",
    "        date = 'Wrong Entry for Year. Enter only numbers!'\n",
    "    return date"
   ]
  },
  {
   "cell_type": "code",
   "execution_count": 29,
   "id": "e47ddf0b",
   "metadata": {},
   "outputs": [
    {
     "name": "stdout",
     "output_type": "stream",
     "text": [
      "Specify first year (1800 to 2050): a\n"
     ]
    },
    {
     "data": {
      "text/plain": [
       "'Wrong Entry for Year. Enter only numbers!'"
      ]
     },
     "execution_count": 29,
     "metadata": {},
     "output_type": "execute_result"
    }
   ],
   "source": [
    "random_date_generator()"
   ]
  },
  {
   "cell_type": "code",
   "execution_count": null,
   "id": "1fed03db",
   "metadata": {},
   "outputs": [],
   "source": []
  },
  {
   "cell_type": "code",
   "execution_count": null,
   "id": "c63cb57c",
   "metadata": {},
   "outputs": [],
   "source": []
  },
  {
   "cell_type": "code",
   "execution_count": null,
   "id": "4a02811a",
   "metadata": {},
   "outputs": [],
   "source": []
  }
 ],
 "metadata": {
  "kernelspec": {
   "display_name": "Python 3 (ipykernel)",
   "language": "python",
   "name": "python3"
  },
  "language_info": {
   "codemirror_mode": {
    "name": "ipython",
    "version": 3
   },
   "file_extension": ".py",
   "mimetype": "text/x-python",
   "name": "python",
   "nbconvert_exporter": "python",
   "pygments_lexer": "ipython3",
   "version": "3.9.7"
  }
 },
 "nbformat": 4,
 "nbformat_minor": 5
}
